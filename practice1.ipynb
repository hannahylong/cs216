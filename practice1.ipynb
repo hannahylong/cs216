{
 "cells": [
  {
   "cell_type": "markdown",
   "metadata": {},
   "source": [
    "# Practice 1"
   ]
  },
  {
   "cell_type": "markdown",
   "metadata": {},
   "source": [
    "In this exercise, you will warm up / refresh your Python skills by analyzing some real data inside of a Jupyter notebook environment. You should write whatever **Python** code you like to solve these problems. You can search on the web for documentation and techniques to help you solve the problem. See especially the official [Python tutorial](https://docs.python.org/3/tutorial/) and [documentation](https://docs.python.org/3/).\n",
    "\n",
    "For help with Jupyter notebooks press `h` when not in edit mode for a cell or see the [documentation](https://jupyter-notebook.readthedocs.io/en/stable/).\n",
    "\n",
    "You can either print answers directly from your code or write them in the markdown cells below your code. Either way, make sure that your answers are visible and can be easily read in the notebook you submit."
   ]
  },
  {
   "cell_type": "markdown",
   "metadata": {},
   "source": [
    "## Part 1: Text\n",
    "The `text.txt` file contains the opening sentences of Charles' Dickens novel *A Tale of Two Cities*. Run the code below. It will read the file, store it in a string variable `text`, and print the first 500 characters."
   ]
  },
  {
   "cell_type": "code",
   "execution_count": 26,
   "metadata": {},
   "outputs": [
    {
     "name": "stdout",
     "output_type": "stream",
     "text": [
      "it was the best of times, it was the worst of times, it was the age of wisdom, it was the age of foolishness, it was the epoch of belief, it was the epoch of incredulity, it was the season of light, it was the season of darkness, it was the spring of hope, it was the winter of despair, we had everything before us, we had nothing before us, we were all going direct to heaven, we were all going direct the other way- in short, the period was so far like the present period, that some of its noisiest ...\n"
     ]
    }
   ],
   "source": [
    "f = open('text.txt')\n",
    "text = f.read()\n",
    "f.close()\n",
    "\n",
    "print(text[:500], '...')"
   ]
  },
  {
   "cell_type": "markdown",
   "metadata": {},
   "source": [
    "### Question 1\n",
    "Print the first and the last sentence of the text. You may assume sentences only end with a period (`'.'`).\n",
    "You may find the Python `split` method for strings to be useful: https://docs.python.org/3/library/stdtypes.html?highlight=split#str.split `sep='.'`."
   ]
  },
  {
   "cell_type": "code",
   "execution_count": 32,
   "metadata": {},
   "outputs": [
    {
     "name": "stdout",
     "output_type": "stream",
     "text": [
      "it was the best of times, it was the worst of times, it was the age of wisdom, it was the age of foolishness, it was the epoch of belief, it was the epoch of incredulity, it was the season of light, it was the season of darkness, it was the spring of hope, it was the winter of despair, we had everything before us, we had nothing before us, we were all going direct to heaven, we were all going direct the other way- in short, the period was so far like the present period, that some of its noisiest authorities insisted on its being received, for good or for evil, in the superlative degree of comparison only\n",
      " thus did the year one thousand seven hundred and seventy-five conduct their greatnesses, and myriads of small creatures-the creatures of this chronicle among the rest-along the roads that lay before them\n"
     ]
    }
   ],
   "source": [
    "# Code for question 1\n",
    "\n",
    "text2 = text.strip()\n",
    "sentences = text2.split('.')\n",
    "print(sentences[0])\n",
    "print(sentences[-2])"
   ]
  },
  {
   "cell_type": "markdown",
   "metadata": {},
   "source": [
    "### Answer 1\n",
    "\n",
    "First Sentence: it was the best of times, it was the worst of times, it was the age of wisdom, it was the age of foolishness, it was the epoch of belief, it was the epoch of incredulity, it was the season of light, it was the season of darkness, it was the spring of hope, it was the winter of despair, we had everything before us, we had nothing before us, we were all going direct to heaven, we were all going direct the other way- in short, the period was so far like the present period, that some of its noisiest authorities insisted on its being received, for good or for evil, in the superlative degree of comparison only\n",
    "\n",
    "Second Sentence: thus did the year one thousand seven hundred and seventy-five conduct their greatnesses, and myriads of small creatures-the creatures of this chronicle among the rest-along the roads that lay before them"
   ]
  },
  {
   "cell_type": "markdown",
   "metadata": {},
   "source": [
    "### Question 2\n",
    "How many total vowels (`a`, `e`, `i`, `o`, `u`) appear in the text?"
   ]
  },
  {
   "cell_type": "code",
   "execution_count": 33,
   "metadata": {},
   "outputs": [
    {
     "name": "stdout",
     "output_type": "stream",
     "text": [
      "1735\n"
     ]
    }
   ],
   "source": [
    "# Code for question 2\n",
    "\n",
    "print(text.count('a') + text.count('e') + text.count('i') + text.count('o') + text.count('u'))"
   ]
  },
  {
   "cell_type": "markdown",
   "metadata": {},
   "source": [
    "### Answer 2\n",
    "1735 vowels appear in the text."
   ]
  },
  {
   "cell_type": "markdown",
   "metadata": {},
   "source": [
    "### Question 3\n",
    "A trigram is a string of exactly 3 characters (or a string with length exactly 3), including blank spaces. For example, the first five trigrams in the text are:\n",
    "1. `'it '`\n",
    "2. `'t w'`\n",
    "3. `' wa'`\n",
    "4. `'was'`\n",
    "5. `'as '`\n",
    "\n",
    "What is the most common trigram in the text?   "
   ]
  },
  {
   "cell_type": "code",
   "execution_count": 41,
   "metadata": {},
   "outputs": [
    {
     "name": "stdout",
     "output_type": "stream",
     "text": [
      " th\n"
     ]
    }
   ],
   "source": [
    "# Code for question 3\n",
    "\n",
    "trigrams = {}\n",
    "\n",
    "for i in range(len(text)):\n",
    "    \n",
    "    if text[i:i+3] not in trigrams:\n",
    "        trigrams[text[i:i+3]] = 0\n",
    "    trigrams[text[i:i+3]] += 1\n",
    "    \n",
    "m = max(trigrams.values())\n",
    "\n",
    "for k in trigrams.keys():\n",
    "    if trigrams[k] == m:\n",
    "        print(k)"
   ]
  },
  {
   "cell_type": "markdown",
   "metadata": {},
   "source": [
    "### Answer 3\n",
    "The most common trigram in the text is \" th\""
   ]
  },
  {
   "cell_type": "markdown",
   "metadata": {},
   "source": [
    "## Part 2: Rides\n",
    "\n",
    "The [boston.csv](boston.csv) file contains data on weekday Uber rides in the Boston, Massachusetts metropolitan areas from the [Uber Movement](https://movement.uber.com) project. The `sourceid` and `dstid` columns contain codes corresponding to start and end locations of each ride. The `hod` column contains codes corresponding to the hour of the day the ride took place. The `ride time` column contains the length of the ride, in minutes.\n",
    "\n",
    "The code below will open the file and read the data as a list of rows, with each row represented as a string. It then prints the first four rows. Note that the first (index 0) row contains the column headers. "
   ]
  },
  {
   "cell_type": "code",
   "execution_count": 42,
   "metadata": {},
   "outputs": [
    {
     "name": "stdout",
     "output_type": "stream",
     "text": [
      "sourceid,dstid,hod,ride time\n",
      "\n",
      "584,33,7,11.866000000000001\n",
      "\n",
      "1013,1116,13,17.799333333333333\n",
      "\n",
      "884,1190,22,19.348833333333335\n",
      "\n"
     ]
    }
   ],
   "source": [
    "f = open('boston.csv')\n",
    "data = f.readlines()\n",
    "f.close()\n",
    "\n",
    "for row in data[:4]:\n",
    "    print(row)"
   ]
  },
  {
   "cell_type": "markdown",
   "metadata": {},
   "source": [
    "### Question 4\n",
    "How many rides are listed in the the file?"
   ]
  },
  {
   "cell_type": "code",
   "execution_count": 48,
   "metadata": {},
   "outputs": [
    {
     "name": "stdout",
     "output_type": "stream",
     "text": [
      "200001\n"
     ]
    }
   ],
   "source": [
    "# Code for question 4\n",
    "\n",
    "print(len(data))"
   ]
  },
  {
   "cell_type": "markdown",
   "metadata": {},
   "source": [
    "### Answer 4\n",
    "There are 200000 rides listed in the file."
   ]
  },
  {
   "cell_type": "markdown",
   "metadata": {},
   "source": [
    "### Question 5\n",
    "What is the maximum length of a ride?"
   ]
  },
  {
   "cell_type": "code",
   "execution_count": 58,
   "metadata": {},
   "outputs": [
    {
     "name": "stdout",
     "output_type": "stream",
     "text": [
      "1471.986166666666\n"
     ]
    }
   ],
   "source": [
    "# Code for question 5\n",
    "\n",
    "max = 0\n",
    "\n",
    "for row in data[1:]:\n",
    "    row2 = row.split(',')\n",
    "    time = float(row2[3][0:-2])\n",
    "    if time > max:\n",
    "        max = time\n",
    "\n",
    "print(max)"
   ]
  },
  {
   "cell_type": "markdown",
   "metadata": {},
   "source": [
    "### Answer 5\n",
    "The maximum length of a ride is 1471.99 minutes."
   ]
  },
  {
   "cell_type": "markdown",
   "metadata": {},
   "source": [
    "### Question 6\n",
    "What is the average length of a ride?"
   ]
  },
  {
   "cell_type": "code",
   "execution_count": 60,
   "metadata": {},
   "outputs": [
    {
     "name": "stdout",
     "output_type": "stream",
     "text": [
      "16.49678068750019\n"
     ]
    }
   ],
   "source": [
    "# Code for question 6\n",
    "\n",
    "times = []\n",
    "\n",
    "for row in data[1:]:\n",
    "    row2 = row.split(',')\n",
    "    time = float(row2[3][0:-2])\n",
    "    times.append(time)\n",
    "\n",
    "print(sum(times)/len(times))"
   ]
  },
  {
   "cell_type": "markdown",
   "metadata": {},
   "source": [
    "### Answer 6\n",
    "The average length of a ride is 16.5 minutes."
   ]
  },
  {
   "cell_type": "markdown",
   "metadata": {},
   "source": [
    "### Question 7\n",
    "What percentage of rides are under 10 minutes?"
   ]
  },
  {
   "cell_type": "code",
   "execution_count": 61,
   "metadata": {},
   "outputs": [
    {
     "name": "stdout",
     "output_type": "stream",
     "text": [
      "0.22829\n"
     ]
    }
   ],
   "source": [
    "# Code for question 7\n",
    "\n",
    "u = 0\n",
    "for t in times:\n",
    "     if t < 10:\n",
    "            u += 1\n",
    "print(u/len(times))"
   ]
  },
  {
   "cell_type": "markdown",
   "metadata": {},
   "source": [
    "### Answer 7\n",
    "22.83% of rides are under 10 minutes."
   ]
  },
  {
   "cell_type": "markdown",
   "metadata": {},
   "source": [
    "### Question 8\n",
    "For each HOD (hour of day), count how many rides take place during that hour."
   ]
  },
  {
   "cell_type": "code",
   "execution_count": 69,
   "metadata": {},
   "outputs": [
    {
     "name": "stdout",
     "output_type": "stream",
     "text": [
      "0.0 : 7600\n",
      "1.0 : 6568\n",
      "2.0 : 5555\n",
      "3.0 : 4296\n",
      "4.0 : 4371\n",
      "5.0 : 5343\n",
      "6.0 : 7424\n",
      "7.0 : 9173\n",
      "8.0 : 9510\n",
      "9.0 : 9259\n",
      "10.0 : 9053\n",
      "11.0 : 8755\n",
      "12.0 : 8885\n",
      "13.0 : 8813\n",
      "14.0 : 9688\n",
      "15.0 : 9748\n",
      "16.0 : 9930\n",
      "17.0 : 9952\n",
      "18.0 : 8365\n",
      "19.0 : 8926\n",
      "20.0 : 9771\n",
      "21.0 : 9894\n",
      "22.0 : 9863\n",
      "23.0 : 9258\n"
     ]
    }
   ],
   "source": [
    "# Code for question 8\n",
    "\n",
    "hours = {}\n",
    "\n",
    "for row in data[1:]:\n",
    "    row2 = row.split(',')\n",
    "    hour = float(row2[2])\n",
    "    if hour not in hours:\n",
    "        hours[hour] = 0\n",
    "    hours[hour] += 1\n",
    "\n",
    "for key in sorted(hours.keys()):\n",
    "    print(\"%s : %s\" % (key, hours[key]))"
   ]
  },
  {
   "cell_type": "markdown",
   "metadata": {},
   "source": [
    "### Answer 8\n",
    "0.0 : 7600  \n",
    "1.0 : 6568  \n",
    "2.0 : 5555  \n",
    "3.0 : 4296  \n",
    "4.0 : 4371  \n",
    "5.0 : 5343  \n",
    "6.0 : 7424  \n",
    "7.0 : 9173  \n",
    "8.0 : 9510  \n",
    "9.0 : 9259  \n",
    "10.0 : 9053  \n",
    "11.0 : 8755  \n",
    "12.0 : 8885  \n",
    "13.0 : 8813  \n",
    "14.0 : 9688  \n",
    "15.0 : 9748  \n",
    "16.0 : 9930  \n",
    "17.0 : 9952  \n",
    "18.0 : 8365  \n",
    "19.0 : 8926  \n",
    "20.0 : 9771  \n",
    "21.0 : 9894  \n",
    "22.0 : 9863  \n",
    "23.0 : 9258  "
   ]
  },
  {
   "cell_type": "markdown",
   "metadata": {},
   "source": [
    "### Question 9\n",
    "What are the three most common **start** locations (`sourceid`) for rides in the dataset? You may find the built-in Python `sorted` function helpful; it's usage is described in https://docs.python.org/3/howto/sorting.html."
   ]
  },
  {
   "cell_type": "code",
   "execution_count": 80,
   "metadata": {},
   "outputs": [
    {
     "name": "stdout",
     "output_type": "stream",
     "text": [
      "[(885.0, 1181), (498.0, 1067), (435.0, 1057), (1116.0, 1049), (1048.0, 1035), (884.0, 1031), (540.0, 980), (1038.0, 980), (856.0, 978), (1110.0, 971), (883.0, 956), (297.0, 952), (333.0, 893), (878.0, 893), (886.0, 883), (497.0, 878), (207.0, 875), (1193.0, 865), (879.0, 864), (53.0, 864), (487.0, 853), (866.0, 843), (1164.0, 828), (47.0, 816), (154.0, 799), (27.0, 790), (1179.0, 780), (861.0, 778), (21.0, 767), (1043.0, 751), (51.0, 747), (496.0, 746), (1040.0, 739), (290.0, 721), (882.0, 710), (1226.0, 707), (68.0, 706), (1140.0, 700), (203.0, 700), (1189.0, 675), (1127.0, 672), (302.0, 667), (1227.0, 663), (917.0, 660), (872.0, 657), (880.0, 655), (504.0, 655), (413.0, 654), (881.0, 650), (280.0, 647), (167.0, 647), (294.0, 635), (277.0, 632), (495.0, 628), (1002.0, 622), (94.0, 621), (286.0, 587), (448.0, 580), (760.0, 569), (1024.0, 568), (857.0, 564), (151.0, 563), (889.0, 558), (862.0, 557), (362.0, 556), (1214.0, 555), (210.0, 554), (757.0, 553), (503.0, 553), (888.0, 553), (403.0, 548), (243.0, 537), (759.0, 534), (763.0, 534), (836.0, 528), (588.0, 527), (242.0, 527), (46.0, 522), (360.0, 520), (320.0, 520), (915.0, 518), (494.0, 517), (1013.0, 516), (155.0, 512), (902.0, 511), (32.0, 511), (227.0, 510), (150.0, 509), (391.0, 509), (244.0, 508), (500.0, 500), (209.0, 499), (1129.0, 498), (79.0, 498), (892.0, 494), (713.0, 488), (1118.0, 487), (1005.0, 486), (316.0, 485), (245.0, 481), (1099.0, 477), (835.0, 474), (1041.0, 474), (58.0, 472), (82.0, 470), (891.0, 470), (530.0, 465), (1163.0, 459), (363.0, 458), (906.0, 457), (1232.0, 455), (92.0, 453), (493.0, 452), (740.0, 451), (827.0, 451), (251.0, 450), (581.0, 450), (1016.0, 449), (864.0, 446), (819.0, 445), (1242.0, 442), (54.0, 441), (774.0, 439), (341.0, 438), (1178.0, 437), (425.0, 437), (287.0, 436), (773.0, 434), (877.0, 434), (156.0, 429), (424.0, 427), (335.0, 426), (1004.0, 424), (523.0, 423), (764.0, 423), (875.0, 423), (865.0, 423), (1012.0, 423), (549.0, 422), (329.0, 422), (33.0, 421), (831.0, 421), (890.0, 421), (761.0, 421), (1171.0, 418), (847.0, 418), (1190.0, 417), (900.0, 417), (288.0, 417), (896.0, 417), (208.0, 413), (1006.0, 413), (529.0, 413), (756.0, 413), (253.0, 413), (361.0, 412), (241.0, 411), (1123.0, 410), (131.0, 408), (909.0, 407), (758.0, 406), (317.0, 405), (1128.0, 402), (512.0, 402), (28.0, 401), (846.0, 395), (544.0, 393), (1211.0, 391), (364.0, 390), (1185.0, 388), (587.0, 387), (330.0, 385), (400.0, 385), (832.0, 384), (255.0, 382), (220.0, 381), (98.0, 381), (1233.0, 380), (491.0, 380), (762.0, 379), (285.0, 379), (1010.0, 378), (805.0, 378), (404.0, 377), (105.0, 376), (718.0, 376), (840.0, 374), (810.0, 372), (848.0, 369), (502.0, 368), (508.0, 367), (905.0, 367), (904.0, 367), (863.0, 367), (221.0, 367), (1047.0, 366), (804.0, 366), (1000.0, 366), (1195.0, 362), (887.0, 362), (445.0, 361), (153.0, 360), (160.0, 359), (299.0, 359), (1011.0, 359), (505.0, 358), (205.0, 357), (1212.0, 357), (776.0, 357), (873.0, 355), (130.0, 354), (765.0, 354), (767.0, 353), (590.0, 353), (368.0, 351), (1119.0, 351), (134.0, 349), (462.0, 349), (279.0, 347), (222.0, 346), (818.0, 346), (402.0, 345), (521.0, 345), (52.0, 344), (1003.0, 344), (1078.0, 340), (1044.0, 340), (867.0, 340), (246.0, 339), (249.0, 338), (908.0, 337), (369.0, 336), (80.0, 335), (586.0, 333), (1213.0, 332), (261.0, 332), (527.0, 332), (511.0, 332), (775.0, 332), (916.0, 332), (870.0, 331), (1165.0, 330), (441.0, 327), (876.0, 327), (95.0, 327), (522.0, 326), (17.0, 325), (874.0, 323), (871.0, 323), (825.0, 323), (3.0, 323), (930.0, 322), (1117.0, 322), (699.0, 321), (834.0, 319), (334.0, 318), (1075.0, 316), (140.0, 315), (1228.0, 315), (510.0, 313), (779.0, 312), (328.0, 312), (1241.0, 312), (506.0, 312), (907.0, 311), (838.0, 310), (893.0, 308), (986.0, 308), (16.0, 308), (1238.0, 307), (903.0, 307), (1042.0, 306), (318.0, 305), (1120.0, 305), (211.0, 304), (868.0, 302), (37.0, 301), (894.0, 301), (248.0, 301), (869.0, 300), (777.0, 298), (206.0, 297), (634.0, 297), (250.0, 295), (1198.0, 295), (366.0, 294), (367.0, 294), (1215.0, 294), (1102.0, 293), (809.0, 293), (817.0, 290), (813.0, 290), (898.0, 286), (426.0, 283), (816.0, 282), (1247.0, 282), (430.0, 281), (216.0, 281), (911.0, 278), (1199.0, 278), (1122.0, 277), (747.0, 275), (365.0, 273), (638.0, 271), (136.0, 271), (507.0, 271), (499.0, 271), (1045.0, 270), (289.0, 269), (812.0, 269), (1142.0, 266), (158.0, 266), (837.0, 265), (1141.0, 265), (830.0, 264), (5.0, 263), (228.0, 262), (409.0, 261), (492.0, 261), (1023.0, 261), (405.0, 258), (1240.0, 258), (276.0, 258), (406.0, 257), (252.0, 255), (223.0, 255), (811.0, 255), (157.0, 255), (808.0, 254), (631.0, 253), (1017.0, 253), (632.0, 252), (461.0, 250), (1160.0, 249), (20.0, 249), (459.0, 246), (97.0, 244), (254.0, 244), (215.0, 244), (141.0, 243), (247.0, 243), (509.0, 243), (401.0, 243), (1175.0, 242), (135.0, 239), (129.0, 238), (431.0, 237), (340.0, 236), (617.0, 235), (524.0, 233), (298.0, 233), (1131.0, 233), (589.0, 233), (778.0, 232), (807.0, 232), (824.0, 231), (1137.0, 231), (132.0, 229), (1025.0, 227), (432.0, 226), (310.0, 225), (281.0, 222), (446.0, 222), (1079.0, 221), (38.0, 218), (787.0, 216), (897.0, 213), (561.0, 211), (709.0, 210), (1065.0, 210), (999.0, 210), (1237.0, 210), (1130.0, 209), (822.0, 208), (1039.0, 206), (29.0, 206), (200.0, 202), (1001.0, 202), (821.0, 200), (826.0, 200), (944.0, 199), (1239.0, 197), (204.0, 197), (213.0, 196), (137.0, 196), (13.0, 191), (605.0, 190), (1157.0, 189), (370.0, 188), (212.0, 188), (1014.0, 188), (895.0, 186), (786.0, 185), (839.0, 184), (665.0, 183), (501.0, 182), (1151.0, 181), (1246.0, 181), (526.0, 180), (633.0, 180), (748.0, 179), (128.0, 178), (1143.0, 178), (899.0, 175), (983.0, 175), (77.0, 173), (1121.0, 173), (792.0, 173), (152.0, 173), (225.0, 173), (806.0, 171), (739.0, 171), (144.0, 170), (815.0, 169), (331.0, 169), (138.0, 168), (995.0, 167), (843.0, 166), (1103.0, 166), (385.0, 166), (19.0, 165), (1225.0, 164), (1177.0, 163), (427.0, 163), (613.0, 163), (293.0, 163), (60.0, 162), (1174.0, 162), (18.0, 162), (444.0, 162), (696.0, 162), (615.0, 161), (525.0, 160), (184.0, 160), (1077.0, 160), (62.0, 158), (768.0, 158), (788.0, 157), (823.0, 157), (159.0, 156), (41.0, 156), (374.0, 156), (311.0, 154), (791.0, 154), (901.0, 153), (927.0, 152), (1104.0, 152), (418.0, 151), (828.0, 149), (419.0, 148), (695.0, 148), (726.0, 147), (296.0, 147), (69.0, 145), (517.0, 145), (201.0, 144), (217.0, 144), (420.0, 144), (1170.0, 144), (229.0, 144), (120.0, 144), (1095.0, 144), (447.0, 142), (1181.0, 142), (1144.0, 141), (114.0, 141), (1112.0, 141), (1230.0, 140), (725.0, 140), (697.0, 140), (1056.0, 139), (707.0, 139), (789.0, 139), (127.0, 138), (116.0, 138), (202.0, 137), (990.0, 137), (301.0, 137), (984.0, 136), (1135.0, 136), (639.0, 134), (67.0, 134), (584.0, 133), (626.0, 133), (89.0, 133), (1113.0, 132), (630.0, 131), (268.0, 131), (692.0, 131), (386.0, 131), (749.0, 130), (1186.0, 130), (14.0, 130), (183.0, 130), (433.0, 129), (769.0, 129), (185.0, 128), (912.0, 128), (1100.0, 127), (463.0, 127), (195.0, 126), (428.0, 126), (532.0, 123), (833.0, 123), (1197.0, 123), (295.0, 123), (1021.0, 121), (45.0, 121), (218.0, 119), (182.0, 118), (113.0, 118), (1068.0, 118), (844.0, 118), (324.0, 115), (30.0, 115), (1080.0, 115), (1007.0, 113), (48.0, 111), (783.0, 110), (72.0, 109), (1192.0, 109), (274.0, 108), (629.0, 107), (325.0, 107), (417.0, 107), (57.0, 106), (1026.0, 106), (746.0, 105), (998.0, 105), (554.0, 105), (1184.0, 103), (528.0, 103), (1206.0, 103), (282.0, 102), (710.0, 101), (1173.0, 100), (237.0, 100), (766.0, 100), (1191.0, 100), (1015.0, 100), (273.0, 98), (83.0, 97), (327.0, 97), (644.0, 96), (996.0, 96), (782.0, 96), (1027.0, 95), (1094.0, 95), (118.0, 95), (991.0, 94), (81.0, 94), (126.0, 91), (465.0, 91), (388.0, 91), (657.0, 91), (711.0, 91), (23.0, 90), (78.0, 90), (115.0, 90), (1126.0, 89), (741.0, 88), (655.0, 88), (460.0, 87), (1229.0, 86), (1062.0, 86), (536.0, 86), (9.0, 85), (537.0, 85), (968.0, 85), (199.0, 85), (313.0, 85), (133.0, 85), (4.0, 84), (306.0, 84), (1138.0, 84), (40.0, 84), (784.0, 83), (1081.0, 83), (1096.0, 83), (845.0, 83), (803.0, 83), (1194.0, 82), (583.0, 82), (640.0, 82), (408.0, 82), (585.0, 81), (270.0, 80), (727.0, 80), (675.0, 78), (484.0, 78), (235.0, 76), (790.0, 76), (440.0, 76), (314.0, 76), (1033.0, 76), (339.0, 75), (65.0, 75), (147.0, 75), (473.0, 73), (637.0, 73), (1145.0, 73), (478.0, 73), (407.0, 73), (272.0, 73), (59.0, 72), (190.0, 72), (635.0, 72), (745.0, 72), (63.0, 71), (641.0, 71), (142.0, 70), (714.0, 70), (1202.0, 70), (197.0, 70), (117.0, 69), (1105.0, 69), (752.0, 69), (1150.0, 68), (275.0, 68), (785.0, 68), (1182.0, 68), (518.0, 67), (232.0, 67), (26.0, 67), (464.0, 67), (1018.0, 67), (1208.0, 67), (729.0, 66), (196.0, 66), (965.0, 66), (921.0, 66), (457.0, 66), (415.0, 66), (842.0, 65), (614.0, 65), (691.0, 65), (226.0, 65), (214.0, 65), (715.0, 64), (796.0, 64), (646.0, 64), (820.0, 63), (794.0, 63), (1236.0, 63), (750.0, 63), (194.0, 63), (841.0, 63), (122.0, 62), (978.0, 61), (636.0, 61), (982.0, 61), (1089.0, 60), (515.0, 60), (645.0, 60), (829.0, 60), (1082.0, 60), (230.0, 59), (1183.0, 59), (1245.0, 59), (724.0, 58), (312.0, 58), (1162.0, 58), (384.0, 57), (955.0, 57), (1066.0, 56), (93.0, 55), (315.0, 55), (231.0, 55), (913.0, 54), (538.0, 54), (474.0, 54), (728.0, 53), (781.0, 53), (693.0, 52), (987.0, 52), (455.0, 52), (380.0, 52), (31.0, 52), (723.0, 52), (8.0, 51), (814.0, 51), (1207.0, 51), (161.0, 50), (1029.0, 50), (442.0, 49), (1064.0, 49), (685.0, 48), (1031.0, 48), (780.0, 47), (475.0, 47), (456.0, 47), (798.0, 46), (416.0, 45), (678.0, 45), (175.0, 44), (722.0, 44), (772.0, 44), (795.0, 43), (1115.0, 43), (545.0, 42), (412.0, 42), (482.0, 41), (1009.0, 41), (958.0, 41), (452.0, 40), (989.0, 40), (91.0, 40), (189.0, 40), (1203.0, 39), (74.0, 39), (957.0, 39), (1063.0, 39), (434.0, 39), (451.0, 39), (308.0, 38), (346.0, 38), (326.0, 38), (994.0, 37), (649.0, 37), (659.0, 37), (654.0, 36), (44.0, 36), (125.0, 36), (606.0, 35), (560.0, 35), (338.0, 35), (1061.0, 34), (1231.0, 33), (10.0, 33), (721.0, 33), (198.0, 33), (555.0, 33), (1146.0, 33), (390.0, 33), (985.0, 32), (850.0, 32), (143.0, 32), (516.0, 32), (443.0, 32), (1034.0, 31), (187.0, 31), (600.0, 31), (951.0, 30), (1155.0, 30), (25.0, 30), (1097.0, 30), (271.0, 29), (720.0, 29), (1054.0, 29), (975.0, 29), (708.0, 29), (677.0, 29), (1022.0, 28), (962.0, 28), (375.0, 28), (73.0, 28), (191.0, 27), (466.0, 27), (332.0, 27), (56.0, 27), (188.0, 27), (770.0, 27), (236.0, 26), (467.0, 26), (603.0, 26), (969.0, 26), (612.0, 26), (50.0, 26), (389.0, 25), (656.0, 25), (1161.0, 25), (378.0, 25), (1235.0, 25), (993.0, 25), (1107.0, 24), (119.0, 24), (660.0, 24), (980.0, 24), (683.0, 24), (102.0, 24), (283.0, 24), (1139.0, 23), (284.0, 23), (61.0, 23), (943.0, 23), (1060.0, 23), (520.0, 23), (1101.0, 23), (1204.0, 23), (604.0, 23), (1093.0, 22), (956.0, 22), (954.0, 22), (486.0, 22), (36.0, 22), (387.0, 22), (533.0, 21), (488.0, 21), (429.0, 21), (307.0, 20), (1153.0, 20), (322.0, 20), (359.0, 20), (453.0, 20), (410.0, 20), (800.0, 19), (851.0, 19), (751.0, 19), (392.0, 19), (123.0, 18), (454.0, 18), (558.0, 18), (192.0, 18), (519.0, 18), (265.0, 18), (1154.0, 18), (1180.0, 18), (99.0, 18), (55.0, 18), (744.0, 18), (686.0, 17), (481.0, 17), (376.0, 17), (377.0, 17), (942.0, 17), (239.0, 17), (1090.0, 17), (651.0, 17), (1167.0, 16), (480.0, 16), (75.0, 16), (1035.0, 16), (1156.0, 16), (680.0, 16), (323.0, 15), (180.0, 15), (622.0, 15), (1106.0, 15), (193.0, 15), (379.0, 15), (238.0, 15), (736.0, 15), (959.0, 15), (479.0, 14), (971.0, 14), (353.0, 14), (350.0, 14), (90.0, 14), (107.0, 14), (575.0, 14), (337.0, 14), (700.0, 14), (1188.0, 14), (1132.0, 14), (574.0, 14), (476.0, 13), (945.0, 13), (472.0, 13), (624.0, 13), (621.0, 13), (470.0, 13), (672.0, 13), (1074.0, 12), (1234.0, 12), (100.0, 12), (71.0, 12), (149.0, 12), (357.0, 12), (348.0, 12), (534.0, 12), (178.0, 12), (849.0, 12), (577.0, 12), (1053.0, 12), (278.0, 11), (1071.0, 11), (553.0, 11), (698.0, 11), (733.0, 11), (542.0, 11), (855.0, 11), (973.0, 10), (1176.0, 10), (743.0, 10), (121.0, 10), (173.0, 10), (269.0, 10), (458.0, 10), (39.0, 9), (799.0, 9), (573.0, 9), (349.0, 9), (1149.0, 9), (732.0, 9), (449.0, 9), (964.0, 9), (688.0, 9), (172.0, 9), (1088.0, 9), (352.0, 9), (616.0, 9), (687.0, 9), (1114.0, 8), (1148.0, 8), (163.0, 8), (1243.0, 8), (596.0, 8), (309.0, 8), (705.0, 8), (702.0, 7), (609.0, 7), (1209.0, 7), (953.0, 7), (797.0, 7), (974.0, 7), (106.0, 7), (1108.0, 7), (342.0, 7), (109.0, 7), (531.0, 7), (224.0, 7), (70.0, 7), (35.0, 7), (552.0, 7), (607.0, 7), (704.0, 7), (667.0, 7), (174.0, 7), (671.0, 6), (1217.0, 6), (952.0, 6), (233.0, 6), (1219.0, 6), (1098.0, 6), (650.0, 6), (179.0, 6), (941.0, 6), (112.0, 5), (543.0, 5), (967.0, 5), (354.0, 5), (608.0, 5), (170.0, 5), (694.0, 5), (66.0, 5), (602.0, 5), (145.0, 5), (940.0, 5), (103.0, 5), (421.0, 5), (576.0, 5), (679.0, 5), (938.0, 5), (742.0, 5), (949.0, 5), (963.0, 4), (1220.0, 4), (918.0, 4), (684.0, 4), (670.0, 4), (580.0, 4), (623.0, 4), (972.0, 4), (382.0, 4), (1224.0, 4), (171.0, 4), (1091.0, 4), (1036.0, 4), (396.0, 4), (572.0, 4), (625.0, 3), (356.0, 3), (1028.0, 3), (1147.0, 3), (673.0, 3), (1085.0, 3), (355.0, 3), (682.0, 3), (423.0, 3), (597.0, 3), (730.0, 3), (181.0, 3), (1159.0, 3), (734.0, 3), (1158.0, 3), (569.0, 3), (303.0, 3), (1221.0, 2), (139.0, 2), (1092.0, 2), (305.0, 2), (1205.0, 2), (706.0, 2), (771.0, 2), (541.0, 2), (643.0, 2), (1244.0, 2), (598.0, 2), (304.0, 2), (966.0, 2), (111.0, 2), (669.0, 2), (1084.0, 2), (1172.0, 2), (490.0, 2), (992.0, 2), (1008.0, 1), (15.0, 1), (468.0, 1), (539.0, 1), (658.0, 1), (383.0, 1), (1049.0, 1), (186.0, 1), (148.0, 1), (291.0, 1), (611.0, 1), (76.0, 1), (1111.0, 1), (393.0, 1), (24.0, 1), (979.0, 1), (1072.0, 1), (124.0, 1), (754.0, 1), (910.0, 1), (469.0, 1), (436.0, 1), (1020.0, 1), (259.0, 1), (755.0, 1), (1.0, 1), (22.0, 1), (556.0, 1), (343.0, 1), (266.0, 1), (550.0, 1), (88.0, 1), (582.0, 1)]\n"
     ]
    }
   ],
   "source": [
    "# Code for question 9\n",
    "\n",
    "starts = {}\n",
    "\n",
    "for row in data[1:]:\n",
    "    row2 = row.split(',')\n",
    "    start = float(row2[0])\n",
    "    if start not in starts:\n",
    "        starts[start] = 0\n",
    "    starts[start] += 1\n",
    "\n",
    "print(sorted(starts.items(), key = lambda item: item[1], reverse = True))"
   ]
  },
  {
   "cell_type": "markdown",
   "metadata": {},
   "source": [
    "### Answer 9\n",
    "The three most common start locations are 885, 498, and 435."
   ]
  },
  {
   "cell_type": "markdown",
   "metadata": {},
   "source": [
    "## Submitting\n",
    "\n",
    "You should make sure any code that you write to answer the questions is included in this notebook. Save your work. Double check that your entire notebook runs correctly and generates the expected output. To do so, you can simply select Kernel -> Restart and Run All. When you finish, submit your assignment at http://gradescope.com/."
   ]
  }
 ],
 "metadata": {
  "kernelspec": {
   "display_name": "Python 3",
   "language": "python",
   "name": "python3"
  },
  "language_info": {
   "codemirror_mode": {
    "name": "ipython",
    "version": 3
   },
   "file_extension": ".py",
   "mimetype": "text/x-python",
   "name": "python",
   "nbconvert_exporter": "python",
   "pygments_lexer": "ipython3",
   "version": "3.7.7"
  }
 },
 "nbformat": 4,
 "nbformat_minor": 2
}
